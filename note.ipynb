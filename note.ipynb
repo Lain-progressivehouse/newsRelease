{
 "cells": [
  {
   "cell_type": "code",
   "execution_count": 1,
   "metadata": {
    "collapsed": true
   },
   "outputs": [],
   "source": [
    "from scdv import scatter_plot\n",
    "import pickle\n",
    "import numpy as np\n",
    "docment_list = pickle.load(open(\"./model/for_papers/document_list.pickle\", \"rb\"))\n",
    "tsne = np.load(\"./model/for_papers/fastText_tsne.npy\")\n",
    "scatter_plot.retern_stock_cluster(tsne, docment_list, cluster=30)"
   ]
  },
  {
   "cell_type": "code",
   "execution_count": null,
   "metadata": {},
   "outputs": [],
   "source": []
  }
 ],
 "metadata": {
  "kernelspec": {
   "display_name": "Python 2",
   "language": "python",
   "name": "python2"
  },
  "language_info": {
   "codemirror_mode": {
    "name": "ipython",
    "version": 2
   },
   "file_extension": ".py",
   "mimetype": "text/x-python",
   "name": "python",
   "nbconvert_exporter": "python",
   "pygments_lexer": "ipython2",
   "version": "2.7.6"
  }
 },
 "nbformat": 4,
 "nbformat_minor": 0
}
